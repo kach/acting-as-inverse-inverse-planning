{
 "cells": [
  {
   "cell_type": "code",
   "execution_count": 1,
   "id": "045c91df-a8f4-4d0a-85e6-ee1a9e5ab214",
   "metadata": {},
   "outputs": [
    {
     "name": "stderr",
     "output_type": "stream",
     "text": [
      "2022-09-18 17:42:07.569245: E external/org_tensorflow/tensorflow/stream_executor/cuda/cuda_driver.cc:271] failed call to cuInit: CUDA_ERROR_NO_DEVICE: no CUDA-capable device is detected\n"
     ]
    }
   ],
   "source": [
    "import os\n",
    "os.environ['CUDA_VISIBLE_DEVICES']=''\n",
    "%run -i imports.py\n",
    "jax.config.update('jax_platform_name', 'cpu')\n",
    "%run -i config.py\n",
    "config.lamp_substep = 4\n",
    "%run -i model.py\n",
    "%run -i shax.py"
   ]
  },
  {
   "cell_type": "code",
   "execution_count": 2,
   "id": "1b00a00b-aff3-4c2b-b950-3c0e12d9e176",
   "metadata": {},
   "outputs": [],
   "source": [
    "init_batch = [init() for _ in range(config.shac_N)]\n",
    "init_batch = state_t(\n",
    "    *(np.stack(p) for p in zip(*init_batch))\n",
    ")\n",
    "theta = policy_net.init(jax.random.PRNGKey(0), jax.vmap(observe)(init_batch))\n",
    "phi = value_net.init(jax.random.PRNGKey(0), jax.vmap(observe)(init_batch))\n",
    "\n",
    "with open('weights/xtheta-0.1.bin', 'rb') as f:\n",
    "    theta = flax.serialization.from_bytes(theta, f.read())\n",
    "\n",
    "with open('weights/xphi-0.1.bin', 'rb') as f:\n",
    "    phi = flax.serialization.from_bytes(phi, f.read())\n",
    "\n",
    "mdp = mdp_t(make_init(0.1), observe, step, terminate)\n",
    "\n",
    "with open('weights/xtheta-0.1.bin', 'rb') as f:\n",
    "    theta_01 = flax.serialization.from_bytes(theta, f.read())\n",
    "\n",
    "with open('weights/xphi-0.1.bin', 'rb') as f:\n",
    "    phi_01 = flax.serialization.from_bytes(phi, f.read())\n",
    "\n",
    "with open('weights/xtheta-0.5.bin', 'rb') as f:\n",
    "    theta_10 = flax.serialization.from_bytes(theta, f.read())\n",
    "\n",
    "with open('weights/xphi-0.5.bin', 'rb') as f:\n",
    "    phi_10 = flax.serialization.from_bytes(phi, f.read())"
   ]
  },
  {
   "cell_type": "code",
   "execution_count": 3,
   "id": "aaead325-4d79-4311-9402-66bec3bbf880",
   "metadata": {
    "tags": []
   },
   "outputs": [],
   "source": [
    "@jax.jit\n",
    "def cost(schedule, s, z):\n",
    "    def loop(t_, x):\n",
    "        t = (t_ + z * len(schedule)) / 500\n",
    "        # t = np.clip(t, 0, 1)\n",
    "        s, out = x\n",
    "        \n",
    "        old_state = s\n",
    "        a = policy_net.apply(theta, mdp.observe(s)[None, ...])[0]\n",
    "        v = value_net.apply(phi, mdp.observe(s)[None, ...])[0]\n",
    "        a = schedule[t_] + a[0] # * a[1] + a[0]\n",
    "        s = mdp.step(s, a)\n",
    "        observe_s = observe(s)\n",
    "        s_01 = old_state._replace(ms=old_state.ms.at[11:].set(config.lamp_m * 0.1))  # light\n",
    "        s_10 = old_state._replace(ms=old_state.ms.at[11:].set(config.lamp_m * 0.5))  # heavy\n",
    "        a_01 = policy_net.apply(theta_01, observe(s_01)[None, ...])[0]\n",
    "        a_10 = policy_net.apply(theta_10, observe(s_10)[None, ...])[0]\n",
    "        sp_01 = step(s_01, a_01[0])\n",
    "        sp_10 = step(s_10, a_10[0])\n",
    "        obs_cost_01 = np.mean((observe(sp_01) - observe_s) ** 2)\n",
    "        obs_cost_10 = np.mean((observe(sp_10) - observe_s) ** 2)\n",
    "\n",
    "        # obs_cost_01 = obs_cost_01 + 0.001 * np.mean((a_01[0] - a)) ** 2\n",
    "        # obs_cost_10 = obs_cost_10 + 0.001 * np.mean((a_10[0] - a)) ** 2\n",
    "        # out = out - 1.0 * v / 1000\n",
    "        out = out + 0.5 * np.mean(s.vs ** 2)\n",
    "        out = out + 20. * (\n",
    "            -obs_cost_01\n",
    "            +obs_cost_10\n",
    "        ) #* (-1)**(z // 16)\n",
    "        out = out + 10. * (jax.nn.relu(1700 - v) / 1000)\n",
    "        return s, out\n",
    "\n",
    "    s, out = jax.lax.fori_loop(0, len(schedule), loop, (s, 0))\n",
    "    out = out / len(schedule)\n",
    "    # out = out + 0.1 * np.mean(np.abs(schedule) ** 2)\n",
    "    return out, s\n",
    "dcost = jax.value_and_grad(cost, has_aux=True)\n",
    "\n",
    "@jax.jit\n",
    "def loop(s, schedule_t):\n",
    "    a = policy_net.apply(theta, mdp.observe(s)[None, ...])[0]\n",
    "    a = schedule_t + a[0] #* a[1] + a[0]\n",
    "    s = mdp.step(s, a)\n",
    "    v = value_net.apply(phi, mdp.observe(s)[None, ...])[0]\n",
    "    return s, v"
   ]
  },
  {
   "cell_type": "code",
   "execution_count": 4,
   "id": "75aeb0b5-218b-47b7-8f63-58fffc6f2e37",
   "metadata": {
    "scrolled": true,
    "tags": []
   },
   "outputs": [],
   "source": [
    "def make_story(seed):\n",
    "    prefix = np.zeros((0, 6))\n",
    "\n",
    "    key = jax.random.PRNGKey(seed)\n",
    "    s = mdp.init()\n",
    "    for z in tqdm(range(16)):\n",
    "        key, subkey = jax.random.split(key)\n",
    "        # schedule = np.zeros((100, 6))\n",
    "        schedule = jax.random.normal(subkey, shape=(100, 6)) * 0.01\n",
    "\n",
    "        opt = optax.sgd(1.0)\n",
    "        opt_state = opt.init(schedule)\n",
    "\n",
    "        cs = []\n",
    "        for t in range(1000 + 1):\n",
    "            (c, s_), dc = dcost(schedule, s, z)\n",
    "            # if t % 100 == 0:\n",
    "            #     print(c)\n",
    "            cs.append(c)\n",
    "            opt_updates, opt_state = opt.update(dc, opt_state)\n",
    "            schedule = optax.apply_updates(schedule, opt_updates)\n",
    "        (c, s_), dc = dcost(schedule, s, z)\n",
    "        # plt.figure()\n",
    "        # plt.plot(cs)\n",
    "        # plt.show()\n",
    "        prefix = np.concatenate([prefix, schedule])\n",
    "        s = s_\n",
    "\n",
    "        s = mdp.init()\n",
    "        for t in range(len(prefix)):\n",
    "            s, v = loop(s, prefix[t])\n",
    "    \n",
    "    # import scipy.ndimage\n",
    "    # plt.figure()\n",
    "    # plt.plot(vs, 'g+')\n",
    "    # plt.plot(scipy.ndimage.gaussian_filter(vs, 40), 'k-')\n",
    "    # plt.xlabel('Time (frame)')\n",
    "    # plt.ylabel('Value function')\n",
    "    # plt.axvspan(1.4 * 500, 1.6 * 500, facecolor='r', alpha=0.2)\n",
    "    # plt.plot(schedule)\n",
    "    # plt.show()\n",
    "    \n",
    "    return prefix"
   ]
  },
  {
   "cell_type": "code",
   "execution_count": 5,
   "id": "8b02b0ff-4ea1-476f-9f74-3e76f44dc33d",
   "metadata": {},
   "outputs": [],
   "source": [
    "def schedule_to_video(schedule, seed):\n",
    "    os.system('rm out/*.png')\n",
    "    import random\n",
    "    boxcolor = [random.random() for _ in range(3)] + [1]\n",
    "\n",
    "    vs = []\n",
    "    s = mdp.init()\n",
    "    for t in tqdm(range(len(schedule))):\n",
    "        if t % 2 == 0:\n",
    "            draw(\n",
    "                jax.device_get(s),\n",
    "                f'out/{t:09}',\n",
    "                boxcolor=boxcolor\n",
    "                # msg='Light' if ((t // 1600) % 2 == 0) else 'Light'\n",
    "            )\n",
    "        s, v = loop(s, schedule[t])\n",
    "        vs.append(v)\n",
    "\n",
    "    os.system(f'''../../ffmpeg-git-20220722-i686-static/ffmpeg -hide_banner -loglevel error -framerate 60 -y -pattern_type glob -i 'out/*.png' -c:v libx264 -pix_fmt yuv420p vidout-mime/mime-weight-{seed}-light.mp4''')\n",
    "    display(Video(f'vidout-mime/mime-weight-{seed}-light.mp4', html_attributes='controls loop autoplay'))\n",
    "    ns.notify(f'finished mime weight - {seed}')"
   ]
  },
  {
   "cell_type": "code",
   "execution_count": 6,
   "id": "6f811c55-ffb7-429f-85e0-1c73dba3e592",
   "metadata": {},
   "outputs": [
    {
     "data": {
      "application/vnd.jupyter.widget-view+json": {
       "model_id": "4233e46ca05a4df2879b19cc01586277",
       "version_major": 2,
       "version_minor": 0
      },
      "text/plain": [
       "  0%|          | 0/16 [00:00<?, ?it/s]"
      ]
     },
     "metadata": {},
     "output_type": "display_data"
    },
    {
     "data": {
      "application/vnd.jupyter.widget-view+json": {
       "model_id": "f22a656837ad449a8ad9222c13509e64",
       "version_major": 2,
       "version_minor": 0
      },
      "text/plain": [
       "  0%|          | 0/1600 [00:00<?, ?it/s]"
      ]
     },
     "metadata": {},
     "output_type": "display_data"
    },
    {
     "data": {
      "text/html": [
       "<video src=\"vidout-mime/mime-weight-0-light.mp4\" controls loop autoplay  >\n",
       "      Your browser does not support the <code>video</code> element.\n",
       "    </video>"
      ],
      "text/plain": [
       "<IPython.core.display.Video object>"
      ]
     },
     "metadata": {},
     "output_type": "display_data"
    },
    {
     "data": {
      "application/vnd.jupyter.widget-view+json": {
       "model_id": "6b20a99a30ed4374bd0829049251ff2f",
       "version_major": 2,
       "version_minor": 0
      },
      "text/plain": [
       "  0%|          | 0/16 [00:00<?, ?it/s]"
      ]
     },
     "metadata": {},
     "output_type": "display_data"
    },
    {
     "data": {
      "application/vnd.jupyter.widget-view+json": {
       "model_id": "a8606cb9f1974b6c90082ade5fa2652b",
       "version_major": 2,
       "version_minor": 0
      },
      "text/plain": [
       "  0%|          | 0/1600 [00:00<?, ?it/s]"
      ]
     },
     "metadata": {},
     "output_type": "display_data"
    },
    {
     "data": {
      "text/html": [
       "<video src=\"vidout-mime/mime-weight-1-light.mp4\" controls loop autoplay  >\n",
       "      Your browser does not support the <code>video</code> element.\n",
       "    </video>"
      ],
      "text/plain": [
       "<IPython.core.display.Video object>"
      ]
     },
     "metadata": {},
     "output_type": "display_data"
    },
    {
     "data": {
      "application/vnd.jupyter.widget-view+json": {
       "model_id": "105ceab19d084121aafa016cc52d6a8a",
       "version_major": 2,
       "version_minor": 0
      },
      "text/plain": [
       "  0%|          | 0/16 [00:00<?, ?it/s]"
      ]
     },
     "metadata": {},
     "output_type": "display_data"
    },
    {
     "data": {
      "application/vnd.jupyter.widget-view+json": {
       "model_id": "87d533a0516d45a4ad2762c828596563",
       "version_major": 2,
       "version_minor": 0
      },
      "text/plain": [
       "  0%|          | 0/1600 [00:00<?, ?it/s]"
      ]
     },
     "metadata": {},
     "output_type": "display_data"
    },
    {
     "data": {
      "text/html": [
       "<video src=\"vidout-mime/mime-weight-2-light.mp4\" controls loop autoplay  >\n",
       "      Your browser does not support the <code>video</code> element.\n",
       "    </video>"
      ],
      "text/plain": [
       "<IPython.core.display.Video object>"
      ]
     },
     "metadata": {},
     "output_type": "display_data"
    },
    {
     "data": {
      "application/vnd.jupyter.widget-view+json": {
       "model_id": "3c516f92269b4040911e68871668d1f9",
       "version_major": 2,
       "version_minor": 0
      },
      "text/plain": [
       "  0%|          | 0/16 [00:00<?, ?it/s]"
      ]
     },
     "metadata": {},
     "output_type": "display_data"
    },
    {
     "data": {
      "application/vnd.jupyter.widget-view+json": {
       "model_id": "484eb0fe9cbd42bf9384feff4353b1a3",
       "version_major": 2,
       "version_minor": 0
      },
      "text/plain": [
       "  0%|          | 0/1600 [00:00<?, ?it/s]"
      ]
     },
     "metadata": {},
     "output_type": "display_data"
    },
    {
     "data": {
      "text/html": [
       "<video src=\"vidout-mime/mime-weight-3-light.mp4\" controls loop autoplay  >\n",
       "      Your browser does not support the <code>video</code> element.\n",
       "    </video>"
      ],
      "text/plain": [
       "<IPython.core.display.Video object>"
      ]
     },
     "metadata": {},
     "output_type": "display_data"
    },
    {
     "data": {
      "application/vnd.jupyter.widget-view+json": {
       "model_id": "531a97a5df1c4a6aa0968f7caec0ff14",
       "version_major": 2,
       "version_minor": 0
      },
      "text/plain": [
       "  0%|          | 0/16 [00:00<?, ?it/s]"
      ]
     },
     "metadata": {},
     "output_type": "display_data"
    },
    {
     "data": {
      "application/vnd.jupyter.widget-view+json": {
       "model_id": "24036546093f4a9a88d963ca85fdaaac",
       "version_major": 2,
       "version_minor": 0
      },
      "text/plain": [
       "  0%|          | 0/1600 [00:00<?, ?it/s]"
      ]
     },
     "metadata": {},
     "output_type": "display_data"
    },
    {
     "data": {
      "text/html": [
       "<video src=\"vidout-mime/mime-weight-4-light.mp4\" controls loop autoplay  >\n",
       "      Your browser does not support the <code>video</code> element.\n",
       "    </video>"
      ],
      "text/plain": [
       "<IPython.core.display.Video object>"
      ]
     },
     "metadata": {},
     "output_type": "display_data"
    },
    {
     "data": {
      "application/vnd.jupyter.widget-view+json": {
       "model_id": "8f85075d39b64c40b98933945dbfc37c",
       "version_major": 2,
       "version_minor": 0
      },
      "text/plain": [
       "  0%|          | 0/16 [00:00<?, ?it/s]"
      ]
     },
     "metadata": {},
     "output_type": "display_data"
    },
    {
     "data": {
      "application/vnd.jupyter.widget-view+json": {
       "model_id": "bbf238c30abe4183b9d7a71c42a2ee2f",
       "version_major": 2,
       "version_minor": 0
      },
      "text/plain": [
       "  0%|          | 0/1600 [00:00<?, ?it/s]"
      ]
     },
     "metadata": {},
     "output_type": "display_data"
    },
    {
     "data": {
      "text/html": [
       "<video src=\"vidout-mime/mime-weight-5-light.mp4\" controls loop autoplay  >\n",
       "      Your browser does not support the <code>video</code> element.\n",
       "    </video>"
      ],
      "text/plain": [
       "<IPython.core.display.Video object>"
      ]
     },
     "metadata": {},
     "output_type": "display_data"
    },
    {
     "data": {
      "application/vnd.jupyter.widget-view+json": {
       "model_id": "e63759fc0b504c379ca5330650c40327",
       "version_major": 2,
       "version_minor": 0
      },
      "text/plain": [
       "  0%|          | 0/16 [00:00<?, ?it/s]"
      ]
     },
     "metadata": {},
     "output_type": "display_data"
    },
    {
     "data": {
      "application/vnd.jupyter.widget-view+json": {
       "model_id": "5c043cf7045844d4b4f79b93ef348f52",
       "version_major": 2,
       "version_minor": 0
      },
      "text/plain": [
       "  0%|          | 0/1600 [00:00<?, ?it/s]"
      ]
     },
     "metadata": {},
     "output_type": "display_data"
    },
    {
     "data": {
      "text/html": [
       "<video src=\"vidout-mime/mime-weight-6-light.mp4\" controls loop autoplay  >\n",
       "      Your browser does not support the <code>video</code> element.\n",
       "    </video>"
      ],
      "text/plain": [
       "<IPython.core.display.Video object>"
      ]
     },
     "metadata": {},
     "output_type": "display_data"
    },
    {
     "data": {
      "application/vnd.jupyter.widget-view+json": {
       "model_id": "37c01392cef74abfb63a610b956b898e",
       "version_major": 2,
       "version_minor": 0
      },
      "text/plain": [
       "  0%|          | 0/16 [00:00<?, ?it/s]"
      ]
     },
     "metadata": {},
     "output_type": "display_data"
    },
    {
     "data": {
      "application/vnd.jupyter.widget-view+json": {
       "model_id": "ee01f9b6b37c4bb7b683a62900b8801f",
       "version_major": 2,
       "version_minor": 0
      },
      "text/plain": [
       "  0%|          | 0/1600 [00:00<?, ?it/s]"
      ]
     },
     "metadata": {},
     "output_type": "display_data"
    },
    {
     "data": {
      "text/html": [
       "<video src=\"vidout-mime/mime-weight-7-light.mp4\" controls loop autoplay  >\n",
       "      Your browser does not support the <code>video</code> element.\n",
       "    </video>"
      ],
      "text/plain": [
       "<IPython.core.display.Video object>"
      ]
     },
     "metadata": {},
     "output_type": "display_data"
    },
    {
     "data": {
      "application/vnd.jupyter.widget-view+json": {
       "model_id": "95e4d1eaa6984ee48fab8b70a8871872",
       "version_major": 2,
       "version_minor": 0
      },
      "text/plain": [
       "  0%|          | 0/16 [00:00<?, ?it/s]"
      ]
     },
     "metadata": {},
     "output_type": "display_data"
    },
    {
     "data": {
      "application/vnd.jupyter.widget-view+json": {
       "model_id": "4fa4fa60279a4d37b4bd0bf75ad8e5d2",
       "version_major": 2,
       "version_minor": 0
      },
      "text/plain": [
       "  0%|          | 0/1600 [00:00<?, ?it/s]"
      ]
     },
     "metadata": {},
     "output_type": "display_data"
    },
    {
     "data": {
      "text/html": [
       "<video src=\"vidout-mime/mime-weight-8-light.mp4\" controls loop autoplay  >\n",
       "      Your browser does not support the <code>video</code> element.\n",
       "    </video>"
      ],
      "text/plain": [
       "<IPython.core.display.Video object>"
      ]
     },
     "metadata": {},
     "output_type": "display_data"
    },
    {
     "data": {
      "application/vnd.jupyter.widget-view+json": {
       "model_id": "4c98ecef333a4a67b48e253f278a1b3a",
       "version_major": 2,
       "version_minor": 0
      },
      "text/plain": [
       "  0%|          | 0/16 [00:00<?, ?it/s]"
      ]
     },
     "metadata": {},
     "output_type": "display_data"
    },
    {
     "data": {
      "application/vnd.jupyter.widget-view+json": {
       "model_id": "01f588e7b02c49c3b9e8b072d672de0d",
       "version_major": 2,
       "version_minor": 0
      },
      "text/plain": [
       "  0%|          | 0/1600 [00:00<?, ?it/s]"
      ]
     },
     "metadata": {},
     "output_type": "display_data"
    },
    {
     "data": {
      "text/html": [
       "<video src=\"vidout-mime/mime-weight-9-light.mp4\" controls loop autoplay  >\n",
       "      Your browser does not support the <code>video</code> element.\n",
       "    </video>"
      ],
      "text/plain": [
       "<IPython.core.display.Video object>"
      ]
     },
     "metadata": {},
     "output_type": "display_data"
    }
   ],
   "source": [
    "for seed in range(10):\n",
    "    schedule = make_story(seed=seed)\n",
    "    schedule_to_video(schedule, seed)"
   ]
  },
  {
   "cell_type": "code",
   "execution_count": 7,
   "id": "d4b17cef-05c2-4674-a82e-5a6fccf953a2",
   "metadata": {
    "tags": []
   },
   "outputs": [],
   "source": [
    "# for seed in range(10):\n",
    "#     display(make_video(\n",
    "#         mdp_t(make_init(0.1), observe, step, terminate), theta_01, phi_01,\n",
    "#         seed=seed, name=f'true-weight-{seed}-light', frames=1600, skip=2\n",
    "#     ))\n",
    "\n",
    "# for seed in range(10):\n",
    "#     display(make_video(\n",
    "#         mdp_t(make_init(0.5), observe, step, terminate), theta_10, phi_10,\n",
    "#         seed=seed, name=f'true-weight-{seed}-heavy', frames=1600, skip=2\n",
    "#     ))"
   ]
  },
  {
   "cell_type": "code",
   "execution_count": null,
   "id": "c17c5e46-d1fa-4671-8c71-80919759c367",
   "metadata": {},
   "outputs": [],
   "source": []
  }
 ],
 "metadata": {
  "kernelspec": {
   "display_name": "Python 3 (ipykernel)",
   "language": "python",
   "name": "python3"
  },
  "language_info": {
   "codemirror_mode": {
    "name": "ipython",
    "version": 3
   },
   "file_extension": ".py",
   "mimetype": "text/x-python",
   "name": "python",
   "nbconvert_exporter": "python",
   "pygments_lexer": "ipython3",
   "version": "3.9.5"
  }
 },
 "nbformat": 4,
 "nbformat_minor": 5
}
